{
 "cells": [
  {
   "cell_type": "markdown",
   "metadata": {},
   "source": [
    "### Importing the Collected Data to Clean it."
   ]
  },
  {
   "cell_type": "code",
   "execution_count": 1,
   "metadata": {},
   "outputs": [
    {
     "name": "stdout",
     "output_type": "stream",
     "text": [
      "Path to collected data is : c:\\Users\\nikhi\\ba_dataScience\\dataCollection\\BA_reviews.csv\n"
     ]
    }
   ],
   "source": [
    "import os\n",
    "\n",
    "# To get the current working directory\n",
    "cwd = os.getcwd()\n",
    "\n",
    "# To get the parent of CWD\n",
    "parent_dir = os.path.dirname(cwd)\n",
    "\n",
    "#Path to data set\n",
    "collected_data_path = os.path.join(parent_dir,\"dataCollection\",\"BA_reviews.csv\")\n",
    "print(\"Path to collected data is :\",collected_data_path)"
   ]
  },
  {
   "cell_type": "markdown",
   "metadata": {},
   "source": [
    "#### Importing Required libraries"
   ]
  },
  {
   "cell_type": "code",
   "execution_count": 2,
   "metadata": {},
   "outputs": [],
   "source": [
    "import pandas as pd\n",
    "import numpy as np\n",
    "import matplotlib.pyplot as plt\n",
    "import seaborn as sns\n",
    "\n",
    "# REGEX parser\n",
    "import re\n"
   ]
  },
  {
   "cell_type": "code",
   "execution_count": 3,
   "metadata": {},
   "outputs": [],
   "source": [
    "df = pd.read_csv(collected_data_path,index_col=0)"
   ]
  },
  {
   "cell_type": "code",
   "execution_count": 4,
   "metadata": {},
   "outputs": [
    {
     "data": {
      "text/html": [
       "<div>\n",
       "<style scoped>\n",
       "    .dataframe tbody tr th:only-of-type {\n",
       "        vertical-align: middle;\n",
       "    }\n",
       "\n",
       "    .dataframe tbody tr th {\n",
       "        vertical-align: top;\n",
       "    }\n",
       "\n",
       "    .dataframe thead th {\n",
       "        text-align: right;\n",
       "    }\n",
       "</style>\n",
       "<table border=\"1\" class=\"dataframe\">\n",
       "  <thead>\n",
       "    <tr style=\"text-align: right;\">\n",
       "      <th></th>\n",
       "      <th>Reviews</th>\n",
       "      <th>Stars</th>\n",
       "      <th>Date</th>\n",
       "      <th>Country</th>\n",
       "    </tr>\n",
       "  </thead>\n",
       "  <tbody>\n",
       "    <tr>\n",
       "      <th>0</th>\n",
       "      <td>✅ Trip Verified |  Have no fear when your BA f...</td>\n",
       "      <td>5.0</td>\n",
       "      <td>21st February 2024</td>\n",
       "      <td>United Kingdom</td>\n",
       "    </tr>\n",
       "    <tr>\n",
       "      <th>1</th>\n",
       "      <td>Not Verified |  We have flown BA five times fr...</td>\n",
       "      <td>10.0</td>\n",
       "      <td>17th February 2024</td>\n",
       "      <td>United States</td>\n",
       "    </tr>\n",
       "    <tr>\n",
       "      <th>2</th>\n",
       "      <td>✅ Trip Verified |  London Heathrow to Istanbul...</td>\n",
       "      <td>3.0</td>\n",
       "      <td>17th February 2024</td>\n",
       "      <td>United Kingdom</td>\n",
       "    </tr>\n",
       "    <tr>\n",
       "      <th>3</th>\n",
       "      <td>Not Verified | Jan 30th, I booked a last-minut...</td>\n",
       "      <td>3.0</td>\n",
       "      <td>16th February 2024</td>\n",
       "      <td>United States</td>\n",
       "    </tr>\n",
       "    <tr>\n",
       "      <th>4</th>\n",
       "      <td>✅ Trip Verified | I am a British Airways Gold ...</td>\n",
       "      <td>2.0</td>\n",
       "      <td>11th February 2024</td>\n",
       "      <td>United States</td>\n",
       "    </tr>\n",
       "  </tbody>\n",
       "</table>\n",
       "</div>"
      ],
      "text/plain": [
       "                                             Reviews  Stars  \\\n",
       "0  ✅ Trip Verified |  Have no fear when your BA f...    5.0   \n",
       "1  Not Verified |  We have flown BA five times fr...   10.0   \n",
       "2  ✅ Trip Verified |  London Heathrow to Istanbul...    3.0   \n",
       "3  Not Verified | Jan 30th, I booked a last-minut...    3.0   \n",
       "4  ✅ Trip Verified | I am a British Airways Gold ...    2.0   \n",
       "\n",
       "                 Date         Country  \n",
       "0  21st February 2024  United Kingdom  \n",
       "1  17th February 2024   United States  \n",
       "2  17th February 2024  United Kingdom  \n",
       "3  16th February 2024   United States  \n",
       "4  11th February 2024   United States  "
      ]
     },
     "execution_count": 4,
     "metadata": {},
     "output_type": "execute_result"
    }
   ],
   "source": [
    "df.head()"
   ]
  },
  {
   "cell_type": "markdown",
   "metadata": {},
   "source": [
    "We are adding a column whch tells that user trip is verified or not"
   ]
  },
  {
   "cell_type": "code",
   "execution_count": 5,
   "metadata": {},
   "outputs": [],
   "source": [
    "df[\"Verified\"] = df.Reviews.str.contains(\"Trip Verified\")"
   ]
  },
  {
   "cell_type": "code",
   "execution_count": 6,
   "metadata": {},
   "outputs": [
    {
     "data": {
      "text/plain": [
       "0        True\n",
       "1       False\n",
       "2        True\n",
       "3       False\n",
       "4        True\n",
       "        ...  \n",
       "3495    False\n",
       "3496    False\n",
       "3497    False\n",
       "3498    False\n",
       "3499    False\n",
       "Name: Verified, Length: 3500, dtype: bool"
      ]
     },
     "execution_count": 6,
     "metadata": {},
     "output_type": "execute_result"
    }
   ],
   "source": [
    "df['Verified']"
   ]
  },
  {
   "cell_type": "code",
   "execution_count": 7,
   "metadata": {},
   "outputs": [
    {
     "data": {
      "text/html": [
       "<div>\n",
       "<style scoped>\n",
       "    .dataframe tbody tr th:only-of-type {\n",
       "        vertical-align: middle;\n",
       "    }\n",
       "\n",
       "    .dataframe tbody tr th {\n",
       "        vertical-align: top;\n",
       "    }\n",
       "\n",
       "    .dataframe thead th {\n",
       "        text-align: right;\n",
       "    }\n",
       "</style>\n",
       "<table border=\"1\" class=\"dataframe\">\n",
       "  <thead>\n",
       "    <tr style=\"text-align: right;\">\n",
       "      <th></th>\n",
       "      <th>Reviews</th>\n",
       "      <th>Stars</th>\n",
       "      <th>Date</th>\n",
       "      <th>Country</th>\n",
       "      <th>Verified</th>\n",
       "    </tr>\n",
       "  </thead>\n",
       "  <tbody>\n",
       "    <tr>\n",
       "      <th>0</th>\n",
       "      <td>✅ Trip Verified |  Have no fear when your BA f...</td>\n",
       "      <td>5.0</td>\n",
       "      <td>21st February 2024</td>\n",
       "      <td>United Kingdom</td>\n",
       "      <td>True</td>\n",
       "    </tr>\n",
       "    <tr>\n",
       "      <th>1</th>\n",
       "      <td>Not Verified |  We have flown BA five times fr...</td>\n",
       "      <td>10.0</td>\n",
       "      <td>17th February 2024</td>\n",
       "      <td>United States</td>\n",
       "      <td>False</td>\n",
       "    </tr>\n",
       "    <tr>\n",
       "      <th>2</th>\n",
       "      <td>✅ Trip Verified |  London Heathrow to Istanbul...</td>\n",
       "      <td>3.0</td>\n",
       "      <td>17th February 2024</td>\n",
       "      <td>United Kingdom</td>\n",
       "      <td>True</td>\n",
       "    </tr>\n",
       "    <tr>\n",
       "      <th>3</th>\n",
       "      <td>Not Verified | Jan 30th, I booked a last-minut...</td>\n",
       "      <td>3.0</td>\n",
       "      <td>16th February 2024</td>\n",
       "      <td>United States</td>\n",
       "      <td>False</td>\n",
       "    </tr>\n",
       "    <tr>\n",
       "      <th>4</th>\n",
       "      <td>✅ Trip Verified | I am a British Airways Gold ...</td>\n",
       "      <td>2.0</td>\n",
       "      <td>11th February 2024</td>\n",
       "      <td>United States</td>\n",
       "      <td>True</td>\n",
       "    </tr>\n",
       "  </tbody>\n",
       "</table>\n",
       "</div>"
      ],
      "text/plain": [
       "                                             Reviews  Stars  \\\n",
       "0  ✅ Trip Verified |  Have no fear when your BA f...    5.0   \n",
       "1  Not Verified |  We have flown BA five times fr...   10.0   \n",
       "2  ✅ Trip Verified |  London Heathrow to Istanbul...    3.0   \n",
       "3  Not Verified | Jan 30th, I booked a last-minut...    3.0   \n",
       "4  ✅ Trip Verified | I am a British Airways Gold ...    2.0   \n",
       "\n",
       "                 Date         Country  Verified  \n",
       "0  21st February 2024  United Kingdom      True  \n",
       "1  17th February 2024   United States     False  \n",
       "2  17th February 2024  United Kingdom      True  \n",
       "3  16th February 2024   United States     False  \n",
       "4  11th February 2024   United States      True  "
      ]
     },
     "execution_count": 7,
     "metadata": {},
     "output_type": "execute_result"
    }
   ],
   "source": [
    "df.head()"
   ]
  },
  {
   "cell_type": "markdown",
   "metadata": {},
   "source": [
    "### Cleaning  Reviews column"
   ]
  },
  {
   "cell_type": "code",
   "execution_count": 11,
   "metadata": {},
   "outputs": [
    {
     "name": "stderr",
     "output_type": "stream",
     "text": [
      "[nltk_data] Downloading package wordnet to\n",
      "[nltk_data]     C:\\Users\\nikhi\\AppData\\Roaming\\nltk_data...\n",
      "[nltk_data]   Package wordnet is already up-to-date!\n",
      "[nltk_data] Downloading package omw-1.4 to\n",
      "[nltk_data]     C:\\Users\\nikhi\\AppData\\Roaming\\nltk_data...\n"
     ]
    },
    {
     "data": {
      "text/plain": [
       "True"
      ]
     },
     "execution_count": 11,
     "metadata": {},
     "output_type": "execute_result"
    }
   ],
   "source": [
    "import nltk\n",
    "nltk.download('wordnet')\n",
    "nltk.download('omw-1.4')"
   ]
  },
  {
   "cell_type": "code",
   "execution_count": 20,
   "metadata": {},
   "outputs": [],
   "source": [
    "# For lemmatization of words we will use nltk\n",
    "from nltk.stem import WordNetLemmatizer\n",
    "from nltk.corpus import stopwords\n",
    "lemma = WordNetLemmatizer()\n",
    "\n",
    "df['Reviews'] = df['Reviews'].str.replace('✅ Trip Verified |', '')\n",
    "df['Reviews'] = df['Reviews'].str.replace('Not Verified |', '')\n",
    "\n",
    "reviews_data = df.Reviews.str.strip()\n",
    "\n",
    "#Creating an empty list to store cleaned reviews\n",
    "\n",
    "Cleaned_reviews = []\n",
    "\n",
    "'''\n",
    "1) Looping through each review\n",
    "2) Remove punctuations\n",
    "3) Lower casing\n",
    "4) Appending to Cleaned_reviews list\n",
    "\n",
    "'''\n",
    "for rev in reviews_data:\n",
    "    rev = re.sub(r'[^\\w\\s]', '', rev)\n",
    "    rev = rev.lower()\n",
    "    rev = rev.split()\n",
    "    rev = [lemma.lemmatize(word) for word in rev if word not in set(stopwords.words('english'))]\n",
    "    rev = \" \".join(rev)\n",
    "    Cleaned_reviews.append(rev)\n",
    "    "
   ]
  },
  {
   "cell_type": "code",
   "execution_count": 21,
   "metadata": {},
   "outputs": [
    {
     "data": {
      "text/plain": [
       "3500"
      ]
     },
     "execution_count": 21,
     "metadata": {},
     "output_type": "execute_result"
    }
   ],
   "source": [
    "len(Cleaned_reviews)"
   ]
  },
  {
   "cell_type": "markdown",
   "metadata": {},
   "source": [
    "Adding the list to dataframe"
   ]
  },
  {
   "cell_type": "code",
   "execution_count": 22,
   "metadata": {},
   "outputs": [],
   "source": [
    "df[\"Cleaned_reviews\"] = Cleaned_reviews"
   ]
  },
  {
   "cell_type": "code",
   "execution_count": 23,
   "metadata": {},
   "outputs": [
    {
     "data": {
      "text/html": [
       "<div>\n",
       "<style scoped>\n",
       "    .dataframe tbody tr th:only-of-type {\n",
       "        vertical-align: middle;\n",
       "    }\n",
       "\n",
       "    .dataframe tbody tr th {\n",
       "        vertical-align: top;\n",
       "    }\n",
       "\n",
       "    .dataframe thead th {\n",
       "        text-align: right;\n",
       "    }\n",
       "</style>\n",
       "<table border=\"1\" class=\"dataframe\">\n",
       "  <thead>\n",
       "    <tr style=\"text-align: right;\">\n",
       "      <th></th>\n",
       "      <th>Reviews</th>\n",
       "      <th>Stars</th>\n",
       "      <th>Date</th>\n",
       "      <th>Country</th>\n",
       "      <th>Verified</th>\n",
       "      <th>Cleaned_reviews</th>\n",
       "    </tr>\n",
       "  </thead>\n",
       "  <tbody>\n",
       "    <tr>\n",
       "      <th>0</th>\n",
       "      <td>Have no fear when your BA flight is operated...</td>\n",
       "      <td>5.0</td>\n",
       "      <td>21st February 2024</td>\n",
       "      <td>United Kingdom</td>\n",
       "      <td>True</td>\n",
       "      <td>fear ba flight operated finnair business class...</td>\n",
       "    </tr>\n",
       "    <tr>\n",
       "      <th>1</th>\n",
       "      <td>We have flown BA five times from western USA...</td>\n",
       "      <td>10.0</td>\n",
       "      <td>17th February 2024</td>\n",
       "      <td>United States</td>\n",
       "      <td>False</td>\n",
       "      <td>flown ba five time western usa england always ...</td>\n",
       "    </tr>\n",
       "    <tr>\n",
       "      <th>2</th>\n",
       "      <td>London Heathrow to Istanbul at the start of ...</td>\n",
       "      <td>3.0</td>\n",
       "      <td>17th February 2024</td>\n",
       "      <td>United Kingdom</td>\n",
       "      <td>True</td>\n",
       "      <td>london heathrow istanbul start halfterm school...</td>\n",
       "    </tr>\n",
       "    <tr>\n",
       "      <th>3</th>\n",
       "      <td>Jan 30th, I booked a last-minute, transatlant...</td>\n",
       "      <td>3.0</td>\n",
       "      <td>16th February 2024</td>\n",
       "      <td>United States</td>\n",
       "      <td>False</td>\n",
       "      <td>jan 30th booked lastminute transatlantic fligh...</td>\n",
       "    </tr>\n",
       "    <tr>\n",
       "      <th>4</th>\n",
       "      <td>I am a British Airways Gold Guest List member...</td>\n",
       "      <td>2.0</td>\n",
       "      <td>11th February 2024</td>\n",
       "      <td>United States</td>\n",
       "      <td>True</td>\n",
       "      <td>british airway gold guest list member lifetime...</td>\n",
       "    </tr>\n",
       "  </tbody>\n",
       "</table>\n",
       "</div>"
      ],
      "text/plain": [
       "                                             Reviews  Stars  \\\n",
       "0    Have no fear when your BA flight is operated...    5.0   \n",
       "1    We have flown BA five times from western USA...   10.0   \n",
       "2    London Heathrow to Istanbul at the start of ...    3.0   \n",
       "3   Jan 30th, I booked a last-minute, transatlant...    3.0   \n",
       "4   I am a British Airways Gold Guest List member...    2.0   \n",
       "\n",
       "                 Date         Country  Verified  \\\n",
       "0  21st February 2024  United Kingdom      True   \n",
       "1  17th February 2024   United States     False   \n",
       "2  17th February 2024  United Kingdom      True   \n",
       "3  16th February 2024   United States     False   \n",
       "4  11th February 2024   United States      True   \n",
       "\n",
       "                                     Cleaned_reviews  \n",
       "0  fear ba flight operated finnair business class...  \n",
       "1  flown ba five time western usa england always ...  \n",
       "2  london heathrow istanbul start halfterm school...  \n",
       "3  jan 30th booked lastminute transatlantic fligh...  \n",
       "4  british airway gold guest list member lifetime...  "
      ]
     },
     "execution_count": 23,
     "metadata": {},
     "output_type": "execute_result"
    }
   ],
   "source": [
    "df.head()"
   ]
  },
  {
   "cell_type": "code",
   "execution_count": 24,
   "metadata": {},
   "outputs": [
    {
     "data": {
      "text/plain": [
       "Reviews             object\n",
       "Stars              float64\n",
       "Date                object\n",
       "Country             object\n",
       "Verified              bool\n",
       "Cleaned_reviews     object\n",
       "dtype: object"
      ]
     },
     "execution_count": 24,
     "metadata": {},
     "output_type": "execute_result"
    }
   ],
   "source": [
    "df.dtypes"
   ]
  },
  {
   "cell_type": "code",
   "execution_count": 27,
   "metadata": {},
   "outputs": [],
   "source": [
    "# Converting date col datatype into datetime\n",
    "# preprcessing the date columns by removing ordinal indicators(e.g., \"st\",\"rd\",\"th\")\n",
    "df.Date = df.Date.str.replace(r'(\\d+)(st|nd|rd|th)',r'\\1',regex=True)\n",
    "df.Date = pd.to_datetime(df.Date,format='%d %B %Y')"
   ]
  },
  {
   "cell_type": "code",
   "execution_count": 28,
   "metadata": {},
   "outputs": [
    {
     "data": {
      "text/plain": [
       "0   2024-02-21\n",
       "1   2024-02-17\n",
       "2   2024-02-17\n",
       "3   2024-02-16\n",
       "4   2024-02-11\n",
       "Name: Date, dtype: datetime64[ns]"
      ]
     },
     "execution_count": 28,
     "metadata": {},
     "output_type": "execute_result"
    }
   ],
   "source": [
    "df.Date.head()"
   ]
  },
  {
   "cell_type": "markdown",
   "metadata": {},
   "source": [
    "##### Cleaning the Stars Column"
   ]
  },
  {
   "cell_type": "code",
   "execution_count": 29,
   "metadata": {},
   "outputs": [
    {
     "data": {
      "text/plain": [
       "array([ 5., 10.,  3.,  2.,  1.,  8.,  6.,  9.,  4.,  7., nan])"
      ]
     },
     "execution_count": 29,
     "metadata": {},
     "output_type": "execute_result"
    }
   ],
   "source": [
    "df.Stars.unique()"
   ]
  },
  {
   "cell_type": "code",
   "execution_count": 32,
   "metadata": {},
   "outputs": [
    {
     "data": {
      "text/plain": [
       "Stars\n",
       "1.0     844\n",
       "2.0     406\n",
       "3.0     395\n",
       "8.0     343\n",
       "10.0    288\n",
       "9.0     281\n",
       "7.0     277\n",
       "5.0     249\n",
       "4.0     239\n",
       "6.0     175\n",
       "Name: count, dtype: int64"
      ]
     },
     "execution_count": 32,
     "metadata": {},
     "output_type": "execute_result"
    }
   ],
   "source": [
    "df.Stars.value_counts()\n"
   ]
  },
  {
   "cell_type": "code",
   "execution_count": 40,
   "metadata": {},
   "outputs": [
    {
     "name": "stdout",
     "output_type": "stream",
     "text": [
      "3\n"
     ]
    }
   ],
   "source": [
    "count = 0\n",
    "for i in df.Stars:\n",
    "    if str(i) == 'nan':\n",
    "        count +=1\n",
    "print(count)"
   ]
  },
  {
   "cell_type": "code",
   "execution_count": 50,
   "metadata": {},
   "outputs": [],
   "source": [
    "# Droping rows the vlaues of rating is nan\n",
    "\n",
    "df.dropna(inplace=True)"
   ]
  },
  {
   "cell_type": "code",
   "execution_count": 51,
   "metadata": {},
   "outputs": [
    {
     "data": {
      "text/plain": [
       "array([ 5., 10.,  3.,  2.,  1.,  8.,  6.,  9.,  4.,  7.])"
      ]
     },
     "execution_count": 51,
     "metadata": {},
     "output_type": "execute_result"
    }
   ],
   "source": [
    "df.Stars.unique()"
   ]
  },
  {
   "cell_type": "code",
   "execution_count": 52,
   "metadata": {},
   "outputs": [
    {
     "data": {
      "text/plain": [
       "Reviews            0\n",
       "Stars              0\n",
       "Date               0\n",
       "Country            0\n",
       "Verified           0\n",
       "Cleaned_reviews    0\n",
       "dtype: int64"
      ]
     },
     "execution_count": 52,
     "metadata": {},
     "output_type": "execute_result"
    }
   ],
   "source": [
    "df.isnull().sum()"
   ]
  },
  {
   "cell_type": "code",
   "execution_count": 53,
   "metadata": {},
   "outputs": [
    {
     "data": {
      "text/plain": [
       "(3495, 6)"
      ]
     },
     "execution_count": 53,
     "metadata": {},
     "output_type": "execute_result"
    }
   ],
   "source": [
    "df.shape"
   ]
  },
  {
   "cell_type": "code",
   "execution_count": 54,
   "metadata": {},
   "outputs": [
    {
     "data": {
      "text/html": [
       "<div>\n",
       "<style scoped>\n",
       "    .dataframe tbody tr th:only-of-type {\n",
       "        vertical-align: middle;\n",
       "    }\n",
       "\n",
       "    .dataframe tbody tr th {\n",
       "        vertical-align: top;\n",
       "    }\n",
       "\n",
       "    .dataframe thead th {\n",
       "        text-align: right;\n",
       "    }\n",
       "</style>\n",
       "<table border=\"1\" class=\"dataframe\">\n",
       "  <thead>\n",
       "    <tr style=\"text-align: right;\">\n",
       "      <th></th>\n",
       "      <th>Reviews</th>\n",
       "      <th>Stars</th>\n",
       "      <th>Date</th>\n",
       "      <th>Country</th>\n",
       "      <th>Verified</th>\n",
       "      <th>Cleaned_reviews</th>\n",
       "    </tr>\n",
       "  </thead>\n",
       "  <tbody>\n",
       "    <tr>\n",
       "      <th>0</th>\n",
       "      <td>Have no fear when your BA flight is operated...</td>\n",
       "      <td>5.0</td>\n",
       "      <td>2024-02-21</td>\n",
       "      <td>United Kingdom</td>\n",
       "      <td>True</td>\n",
       "      <td>fear ba flight operated finnair business class...</td>\n",
       "    </tr>\n",
       "    <tr>\n",
       "      <th>1</th>\n",
       "      <td>We have flown BA five times from western USA...</td>\n",
       "      <td>10.0</td>\n",
       "      <td>2024-02-17</td>\n",
       "      <td>United States</td>\n",
       "      <td>False</td>\n",
       "      <td>flown ba five time western usa england always ...</td>\n",
       "    </tr>\n",
       "    <tr>\n",
       "      <th>2</th>\n",
       "      <td>London Heathrow to Istanbul at the start of ...</td>\n",
       "      <td>3.0</td>\n",
       "      <td>2024-02-17</td>\n",
       "      <td>United Kingdom</td>\n",
       "      <td>True</td>\n",
       "      <td>london heathrow istanbul start halfterm school...</td>\n",
       "    </tr>\n",
       "    <tr>\n",
       "      <th>3</th>\n",
       "      <td>Jan 30th, I booked a last-minute, transatlant...</td>\n",
       "      <td>3.0</td>\n",
       "      <td>2024-02-16</td>\n",
       "      <td>United States</td>\n",
       "      <td>False</td>\n",
       "      <td>jan 30th booked lastminute transatlantic fligh...</td>\n",
       "    </tr>\n",
       "    <tr>\n",
       "      <th>4</th>\n",
       "      <td>I am a British Airways Gold Guest List member...</td>\n",
       "      <td>2.0</td>\n",
       "      <td>2024-02-11</td>\n",
       "      <td>United States</td>\n",
       "      <td>True</td>\n",
       "      <td>british airway gold guest list member lifetime...</td>\n",
       "    </tr>\n",
       "    <tr>\n",
       "      <th>...</th>\n",
       "      <td>...</td>\n",
       "      <td>...</td>\n",
       "      <td>...</td>\n",
       "      <td>...</td>\n",
       "      <td>...</td>\n",
       "      <td>...</td>\n",
       "    </tr>\n",
       "    <tr>\n",
       "      <th>3490</th>\n",
       "      <td>LHR-MCT-LHR. Excellent outbound flight. Tasty ...</td>\n",
       "      <td>10.0</td>\n",
       "      <td>2014-09-09</td>\n",
       "      <td>United Kingdom</td>\n",
       "      <td>False</td>\n",
       "      <td>lhrmctlhr excellent outbound flight tasty food...</td>\n",
       "    </tr>\n",
       "    <tr>\n",
       "      <th>3491</th>\n",
       "      <td>Economy class on 28 Aug from London (LHR) to N...</td>\n",
       "      <td>9.0</td>\n",
       "      <td>2014-09-06</td>\n",
       "      <td>United Kingdom</td>\n",
       "      <td>False</td>\n",
       "      <td>economy class 28 aug london lhr new york jfk b...</td>\n",
       "    </tr>\n",
       "    <tr>\n",
       "      <th>3492</th>\n",
       "      <td>I'm regularly flying Perth-Hong Kong-London-Po...</td>\n",
       "      <td>2.0</td>\n",
       "      <td>2014-09-06</td>\n",
       "      <td>Australia</td>\n",
       "      <td>False</td>\n",
       "      <td>im regularly flying perthhong konglondonport s...</td>\n",
       "    </tr>\n",
       "    <tr>\n",
       "      <th>3493</th>\n",
       "      <td>Travelled LHR to Montreal 21st August 2014 and...</td>\n",
       "      <td>5.0</td>\n",
       "      <td>2014-09-06</td>\n",
       "      <td>United Kingdom</td>\n",
       "      <td>False</td>\n",
       "      <td>travelled lhr montreal 21st august 2014 montre...</td>\n",
       "    </tr>\n",
       "    <tr>\n",
       "      <th>3494</th>\n",
       "      <td>Booked a British Airways holiday so that's fli...</td>\n",
       "      <td>7.0</td>\n",
       "      <td>2014-09-06</td>\n",
       "      <td>United Kingdom</td>\n",
       "      <td>False</td>\n",
       "      <td>booked british airway holiday thats flight hot...</td>\n",
       "    </tr>\n",
       "  </tbody>\n",
       "</table>\n",
       "<p>3495 rows × 6 columns</p>\n",
       "</div>"
      ],
      "text/plain": [
       "                                                Reviews  Stars       Date  \\\n",
       "0       Have no fear when your BA flight is operated...    5.0 2024-02-21   \n",
       "1       We have flown BA five times from western USA...   10.0 2024-02-17   \n",
       "2       London Heathrow to Istanbul at the start of ...    3.0 2024-02-17   \n",
       "3      Jan 30th, I booked a last-minute, transatlant...    3.0 2024-02-16   \n",
       "4      I am a British Airways Gold Guest List member...    2.0 2024-02-11   \n",
       "...                                                 ...    ...        ...   \n",
       "3490  LHR-MCT-LHR. Excellent outbound flight. Tasty ...   10.0 2014-09-09   \n",
       "3491  Economy class on 28 Aug from London (LHR) to N...    9.0 2014-09-06   \n",
       "3492  I'm regularly flying Perth-Hong Kong-London-Po...    2.0 2014-09-06   \n",
       "3493  Travelled LHR to Montreal 21st August 2014 and...    5.0 2014-09-06   \n",
       "3494  Booked a British Airways holiday so that's fli...    7.0 2014-09-06   \n",
       "\n",
       "             Country  Verified  \\\n",
       "0     United Kingdom      True   \n",
       "1      United States     False   \n",
       "2     United Kingdom      True   \n",
       "3      United States     False   \n",
       "4      United States      True   \n",
       "...              ...       ...   \n",
       "3490  United Kingdom     False   \n",
       "3491  United Kingdom     False   \n",
       "3492       Australia     False   \n",
       "3493  United Kingdom     False   \n",
       "3494  United Kingdom     False   \n",
       "\n",
       "                                        Cleaned_reviews  \n",
       "0     fear ba flight operated finnair business class...  \n",
       "1     flown ba five time western usa england always ...  \n",
       "2     london heathrow istanbul start halfterm school...  \n",
       "3     jan 30th booked lastminute transatlantic fligh...  \n",
       "4     british airway gold guest list member lifetime...  \n",
       "...                                                 ...  \n",
       "3490  lhrmctlhr excellent outbound flight tasty food...  \n",
       "3491  economy class 28 aug london lhr new york jfk b...  \n",
       "3492  im regularly flying perthhong konglondonport s...  \n",
       "3493  travelled lhr montreal 21st august 2014 montre...  \n",
       "3494  booked british airway holiday thats flight hot...  \n",
       "\n",
       "[3495 rows x 6 columns]"
      ]
     },
     "execution_count": 54,
     "metadata": {},
     "output_type": "execute_result"
    }
   ],
   "source": [
    "#resetting the index\n",
    "df.reset_index(drop = True)"
   ]
  },
  {
   "cell_type": "markdown",
   "metadata": {},
   "source": [
    "Exporting the data into csv file"
   ]
  },
  {
   "cell_type": "code",
   "execution_count": 55,
   "metadata": {},
   "outputs": [],
   "source": [
    "cwd = os.getcwd()\n",
    "df.to_csv(cwd+\"/Processed_data.csv\")"
   ]
  },
  {
   "cell_type": "code",
   "execution_count": null,
   "metadata": {},
   "outputs": [],
   "source": []
  }
 ],
 "metadata": {
  "kernelspec": {
   "display_name": "base",
   "language": "python",
   "name": "python3"
  },
  "language_info": {
   "codemirror_mode": {
    "name": "ipython",
    "version": 3
   },
   "file_extension": ".py",
   "mimetype": "text/x-python",
   "name": "python",
   "nbconvert_exporter": "python",
   "pygments_lexer": "ipython3",
   "version": "3.10.9"
  }
 },
 "nbformat": 4,
 "nbformat_minor": 2
}
