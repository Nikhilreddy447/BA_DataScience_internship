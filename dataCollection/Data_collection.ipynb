{
 "cells": [
  {
   "cell_type": "markdown",
   "metadata": {},
   "source": [
    "## Data Collection\n",
    "\n",
    "In this task we are collecting the data for customer reviews about British Airways From the site `Skytrax`"
   ]
  },
  {
   "cell_type": "code",
   "execution_count": 12,
   "metadata": {},
   "outputs": [],
   "source": [
    "# Importing required libraries\n",
    "\n",
    "import pandas as pd\n",
    "import numpy as np\n",
    "from bs4 import BeautifulSoup\n",
    "import requests"
   ]
  },
  {
   "cell_type": "code",
   "execution_count": 14,
   "metadata": {},
   "outputs": [],
   "source": [
    "# An empty list to store reviews \n",
    "reviews = []\n",
    "# An empty list to store Stars\n",
    "stars = []\n",
    "# An empty list to store date \n",
    "date = []\n",
    "# An empty list to store the country name where the review is from\n",
    "country = []"
   ]
  },
  {
   "cell_type": "code",
   "execution_count": 15,
   "metadata": {},
   "outputs": [
    {
     "name": "stdout",
     "output_type": "stream",
     "text": [
      "Error in page 32\n",
      "Error in page 34\n",
      "Error in page 34\n"
     ]
    }
   ],
   "source": [
    "base_url = \"https://www.airlinequality.com/airline-reviews/british-airways\"\n",
    "page_size = 100\n",
    "for i in range(1,36):\n",
    "    page = requests.get(f'{base_url}/page/{i}/?sortby=post_date%3ADesc&pagesize={page_size}')\n",
    "    soup = BeautifulSoup(page.content,\"html.parser\")\n",
    "    \n",
    "    #reviews\n",
    "    \n",
    "    for item in soup.find_all('div',class_ = 'text_content'):\n",
    "        reviews.append(item.text)\n",
    "    \n",
    "    #stars\n",
    "    \n",
    "    for item in soup.find_all('div',class_ = 'rating-10'):\n",
    "        try:\n",
    "            stars.append(item.span.text)\n",
    "        except:\n",
    "            print(f\"Error in page {i}\")\n",
    "            stars.append(\"None\")\n",
    "    \n",
    "    #date\n",
    "    \n",
    "    for item in soup.find_all('time'):\n",
    "        date.append(item.text)\n",
    "        \n",
    "    #country\n",
    "    \n",
    "    for item in soup.find_all('h3'):\n",
    "        country.append(item.span.next_sibling.text.strip(' ()'))"
   ]
  },
  {
   "cell_type": "code",
   "execution_count": 16,
   "metadata": {},
   "outputs": [
    {
     "data": {
      "text/plain": [
       "3500"
      ]
     },
     "execution_count": 16,
     "metadata": {},
     "output_type": "execute_result"
    }
   ],
   "source": [
    "len(reviews)"
   ]
  },
  {
   "cell_type": "code",
   "execution_count": 17,
   "metadata": {},
   "outputs": [
    {
     "data": {
      "text/plain": [
       "3500"
      ]
     },
     "execution_count": 17,
     "metadata": {},
     "output_type": "execute_result"
    }
   ],
   "source": [
    "len(country)"
   ]
  },
  {
   "cell_type": "code",
   "execution_count": 18,
   "metadata": {},
   "outputs": [
    {
     "data": {
      "text/plain": [
       "3500"
      ]
     },
     "execution_count": 18,
     "metadata": {},
     "output_type": "execute_result"
    }
   ],
   "source": [
    "stars = stars[:3500]\n",
    "len(stars)"
   ]
  },
  {
   "cell_type": "code",
   "execution_count": 19,
   "metadata": {},
   "outputs": [],
   "source": [
    "# Transforing the collected raw data into datafram\n",
    "\n",
    "df = pd.DataFrame({\"Reviews\":reviews,\"Stars\":stars,\"Date\":date,\"Country\":country})"
   ]
  },
  {
   "cell_type": "code",
   "execution_count": 20,
   "metadata": {},
   "outputs": [
    {
     "data": {
      "text/html": [
       "<div>\n",
       "<style scoped>\n",
       "    .dataframe tbody tr th:only-of-type {\n",
       "        vertical-align: middle;\n",
       "    }\n",
       "\n",
       "    .dataframe tbody tr th {\n",
       "        vertical-align: top;\n",
       "    }\n",
       "\n",
       "    .dataframe thead th {\n",
       "        text-align: right;\n",
       "    }\n",
       "</style>\n",
       "<table border=\"1\" class=\"dataframe\">\n",
       "  <thead>\n",
       "    <tr style=\"text-align: right;\">\n",
       "      <th></th>\n",
       "      <th>Reviews</th>\n",
       "      <th>Stars</th>\n",
       "      <th>Date</th>\n",
       "      <th>Country</th>\n",
       "    </tr>\n",
       "  </thead>\n",
       "  <tbody>\n",
       "    <tr>\n",
       "      <th>0</th>\n",
       "      <td>✅ Trip Verified |  Have no fear when your BA f...</td>\n",
       "      <td>\\n\\t\\t\\t\\t\\t\\t\\t\\t\\t\\t\\t\\t\\t5</td>\n",
       "      <td>21st February 2024</td>\n",
       "      <td>United Kingdom</td>\n",
       "    </tr>\n",
       "    <tr>\n",
       "      <th>1</th>\n",
       "      <td>Not Verified |  We have flown BA five times fr...</td>\n",
       "      <td>10</td>\n",
       "      <td>17th February 2024</td>\n",
       "      <td>United States</td>\n",
       "    </tr>\n",
       "    <tr>\n",
       "      <th>2</th>\n",
       "      <td>✅ Trip Verified |  London Heathrow to Istanbul...</td>\n",
       "      <td>3</td>\n",
       "      <td>17th February 2024</td>\n",
       "      <td>United Kingdom</td>\n",
       "    </tr>\n",
       "    <tr>\n",
       "      <th>3</th>\n",
       "      <td>Not Verified | Jan 30th, I booked a last-minut...</td>\n",
       "      <td>3</td>\n",
       "      <td>16th February 2024</td>\n",
       "      <td>United States</td>\n",
       "    </tr>\n",
       "    <tr>\n",
       "      <th>4</th>\n",
       "      <td>✅ Trip Verified | I am a British Airways Gold ...</td>\n",
       "      <td>2</td>\n",
       "      <td>11th February 2024</td>\n",
       "      <td>United States</td>\n",
       "    </tr>\n",
       "  </tbody>\n",
       "</table>\n",
       "</div>"
      ],
      "text/plain": [
       "                                             Reviews  \\\n",
       "0  ✅ Trip Verified |  Have no fear when your BA f...   \n",
       "1  Not Verified |  We have flown BA five times fr...   \n",
       "2  ✅ Trip Verified |  London Heathrow to Istanbul...   \n",
       "3  Not Verified | Jan 30th, I booked a last-minut...   \n",
       "4  ✅ Trip Verified | I am a British Airways Gold ...   \n",
       "\n",
       "                           Stars                Date         Country  \n",
       "0  \\n\\t\\t\\t\\t\\t\\t\\t\\t\\t\\t\\t\\t\\t5  21st February 2024  United Kingdom  \n",
       "1                             10  17th February 2024   United States  \n",
       "2                              3  17th February 2024  United Kingdom  \n",
       "3                              3  16th February 2024   United States  \n",
       "4                              2  11th February 2024   United States  "
      ]
     },
     "execution_count": 20,
     "metadata": {},
     "output_type": "execute_result"
    }
   ],
   "source": [
    "df.head()"
   ]
  },
  {
   "cell_type": "markdown",
   "metadata": {},
   "source": [
    "### Exporting the Data into CSV format"
   ]
  },
  {
   "cell_type": "code",
   "execution_count": 21,
   "metadata": {},
   "outputs": [],
   "source": [
    "import os\n",
    "\n",
    "cwd = os.getcwd()\n",
    "df.to_csv(cwd+\"/BA_reviews.csv\")"
   ]
  },
  {
   "cell_type": "code",
   "execution_count": null,
   "metadata": {},
   "outputs": [],
   "source": []
  }
 ],
 "metadata": {
  "kernelspec": {
   "display_name": "base",
   "language": "python",
   "name": "python3"
  },
  "language_info": {
   "codemirror_mode": {
    "name": "ipython",
    "version": 3
   },
   "file_extension": ".py",
   "mimetype": "text/x-python",
   "name": "python",
   "nbconvert_exporter": "python",
   "pygments_lexer": "ipython3",
   "version": "3.10.9"
  }
 },
 "nbformat": 4,
 "nbformat_minor": 2
}
